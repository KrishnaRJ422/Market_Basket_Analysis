{
 "cells": [
  {
   "cell_type": "code",
   "execution_count": 2,
   "metadata": {},
   "outputs": [
    {
     "name": "stdout",
     "output_type": "stream",
     "text": [
      "Collecting apyori\n",
      "  Downloading apyori-1.1.2.tar.gz (8.6 kB)\n",
      "Building wheels for collected packages: apyori\n",
      "  Building wheel for apyori (setup.py): started\n",
      "  Building wheel for apyori (setup.py): finished with status 'done'\n",
      "  Created wheel for apyori: filename=apyori-1.1.2-py3-none-any.whl size=5979 sha256=86a5da704d4f0df808d53dc9f2161162aeed5044c4a3c9b5b02fb3bc48cb53c3\n",
      "  Stored in directory: c:\\users\\krish\\appdata\\local\\pip\\cache\\wheels\\cb\\f6\\e1\\57973c631d27efd1a2f375bd6a83b2a616c4021f24aab84080\n",
      "Successfully built apyori\n",
      "Installing collected packages: apyori\n",
      "Successfully installed apyori-1.1.2\n"
     ]
    },
    {
     "name": "stderr",
     "output_type": "stream",
     "text": [
      "WARNING: Ignoring invalid distribution -umpy (c:\\users\\krish\\anaconda3\\lib\\site-packages)\n",
      "WARNING: Ignoring invalid distribution -tatsmodels (c:\\users\\krish\\anaconda3\\lib\\site-packages)\n",
      "WARNING: Ignoring invalid distribution -rotobuf (c:\\users\\krish\\anaconda3\\lib\\site-packages)\n",
      "WARNING: Ignoring invalid distribution -cipy (c:\\users\\krish\\anaconda3\\lib\\site-packages)\n",
      "WARNING: Ignoring invalid distribution -umpy (c:\\users\\krish\\anaconda3\\lib\\site-packages)\n",
      "WARNING: Ignoring invalid distribution -tatsmodels (c:\\users\\krish\\anaconda3\\lib\\site-packages)\n",
      "WARNING: Ignoring invalid distribution -rotobuf (c:\\users\\krish\\anaconda3\\lib\\site-packages)\n",
      "WARNING: Ignoring invalid distribution -cipy (c:\\users\\krish\\anaconda3\\lib\\site-packages)\n",
      "WARNING: Ignoring invalid distribution -umpy (c:\\users\\krish\\anaconda3\\lib\\site-packages)\n",
      "WARNING: Ignoring invalid distribution -tatsmodels (c:\\users\\krish\\anaconda3\\lib\\site-packages)\n",
      "WARNING: Ignoring invalid distribution -rotobuf (c:\\users\\krish\\anaconda3\\lib\\site-packages)\n",
      "WARNING: Ignoring invalid distribution -cipy (c:\\users\\krish\\anaconda3\\lib\\site-packages)\n",
      "WARNING: Ignoring invalid distribution -umpy (c:\\users\\krish\\anaconda3\\lib\\site-packages)\n",
      "WARNING: Ignoring invalid distribution -tatsmodels (c:\\users\\krish\\anaconda3\\lib\\site-packages)\n",
      "WARNING: Ignoring invalid distribution -rotobuf (c:\\users\\krish\\anaconda3\\lib\\site-packages)\n",
      "WARNING: Ignoring invalid distribution -cipy (c:\\users\\krish\\anaconda3\\lib\\site-packages)\n",
      "WARNING: Ignoring invalid distribution -umpy (c:\\users\\krish\\anaconda3\\lib\\site-packages)\n",
      "WARNING: Ignoring invalid distribution -tatsmodels (c:\\users\\krish\\anaconda3\\lib\\site-packages)\n",
      "WARNING: Ignoring invalid distribution -rotobuf (c:\\users\\krish\\anaconda3\\lib\\site-packages)\n",
      "WARNING: Ignoring invalid distribution -cipy (c:\\users\\krish\\anaconda3\\lib\\site-packages)\n",
      "WARNING: Ignoring invalid distribution -umpy (c:\\users\\krish\\anaconda3\\lib\\site-packages)\n",
      "WARNING: Ignoring invalid distribution -tatsmodels (c:\\users\\krish\\anaconda3\\lib\\site-packages)\n",
      "WARNING: Ignoring invalid distribution -rotobuf (c:\\users\\krish\\anaconda3\\lib\\site-packages)\n",
      "WARNING: Ignoring invalid distribution -cipy (c:\\users\\krish\\anaconda3\\lib\\site-packages)\n",
      "WARNING: Ignoring invalid distribution -umpy (c:\\users\\krish\\anaconda3\\lib\\site-packages)\n",
      "WARNING: Ignoring invalid distribution -tatsmodels (c:\\users\\krish\\anaconda3\\lib\\site-packages)\n",
      "WARNING: Ignoring invalid distribution -rotobuf (c:\\users\\krish\\anaconda3\\lib\\site-packages)\n",
      "WARNING: Ignoring invalid distribution -cipy (c:\\users\\krish\\anaconda3\\lib\\site-packages)\n",
      "WARNING: You are using pip version 21.2.4; however, version 21.3.1 is available.\n",
      "You should consider upgrading via the 'c:\\users\\krish\\anaconda3\\python.exe -m pip install --upgrade pip' command.\n"
     ]
    }
   ],
   "source": [
    "#!pip install apyori"
   ]
  },
  {
   "cell_type": "code",
   "execution_count": 150,
   "metadata": {},
   "outputs": [],
   "source": [
    "import pandas as pd\n",
    "import numpy as np\n",
    "from apyori import apriori"
   ]
  },
  {
   "cell_type": "code",
   "execution_count": 8,
   "metadata": {},
   "outputs": [],
   "source": [
    "data=pd.read_csv(\"C:/Users/krish/Downloads/Market_Basket_Optimisation.csv\",header=None)"
   ]
  },
  {
   "cell_type": "code",
   "execution_count": 9,
   "metadata": {},
   "outputs": [
    {
     "data": {
      "text/html": [
       "<div>\n",
       "<style scoped>\n",
       "    .dataframe tbody tr th:only-of-type {\n",
       "        vertical-align: middle;\n",
       "    }\n",
       "\n",
       "    .dataframe tbody tr th {\n",
       "        vertical-align: top;\n",
       "    }\n",
       "\n",
       "    .dataframe thead th {\n",
       "        text-align: right;\n",
       "    }\n",
       "</style>\n",
       "<table border=\"1\" class=\"dataframe\">\n",
       "  <thead>\n",
       "    <tr style=\"text-align: right;\">\n",
       "      <th></th>\n",
       "      <th>0</th>\n",
       "      <th>1</th>\n",
       "      <th>2</th>\n",
       "      <th>3</th>\n",
       "      <th>4</th>\n",
       "      <th>5</th>\n",
       "      <th>6</th>\n",
       "      <th>7</th>\n",
       "      <th>8</th>\n",
       "      <th>9</th>\n",
       "      <th>10</th>\n",
       "      <th>11</th>\n",
       "      <th>12</th>\n",
       "      <th>13</th>\n",
       "      <th>14</th>\n",
       "      <th>15</th>\n",
       "      <th>16</th>\n",
       "      <th>17</th>\n",
       "      <th>18</th>\n",
       "      <th>19</th>\n",
       "    </tr>\n",
       "  </thead>\n",
       "  <tbody>\n",
       "    <tr>\n",
       "      <th>0</th>\n",
       "      <td>shrimp</td>\n",
       "      <td>almonds</td>\n",
       "      <td>avocado</td>\n",
       "      <td>vegetables mix</td>\n",
       "      <td>green grapes</td>\n",
       "      <td>whole weat flour</td>\n",
       "      <td>yams</td>\n",
       "      <td>cottage cheese</td>\n",
       "      <td>energy drink</td>\n",
       "      <td>tomato juice</td>\n",
       "      <td>low fat yogurt</td>\n",
       "      <td>green tea</td>\n",
       "      <td>honey</td>\n",
       "      <td>salad</td>\n",
       "      <td>mineral water</td>\n",
       "      <td>salmon</td>\n",
       "      <td>antioxydant juice</td>\n",
       "      <td>frozen smoothie</td>\n",
       "      <td>spinach</td>\n",
       "      <td>olive oil</td>\n",
       "    </tr>\n",
       "    <tr>\n",
       "      <th>1</th>\n",
       "      <td>burgers</td>\n",
       "      <td>meatballs</td>\n",
       "      <td>eggs</td>\n",
       "      <td>NaN</td>\n",
       "      <td>NaN</td>\n",
       "      <td>NaN</td>\n",
       "      <td>NaN</td>\n",
       "      <td>NaN</td>\n",
       "      <td>NaN</td>\n",
       "      <td>NaN</td>\n",
       "      <td>NaN</td>\n",
       "      <td>NaN</td>\n",
       "      <td>NaN</td>\n",
       "      <td>NaN</td>\n",
       "      <td>NaN</td>\n",
       "      <td>NaN</td>\n",
       "      <td>NaN</td>\n",
       "      <td>NaN</td>\n",
       "      <td>NaN</td>\n",
       "      <td>NaN</td>\n",
       "    </tr>\n",
       "    <tr>\n",
       "      <th>2</th>\n",
       "      <td>chutney</td>\n",
       "      <td>NaN</td>\n",
       "      <td>NaN</td>\n",
       "      <td>NaN</td>\n",
       "      <td>NaN</td>\n",
       "      <td>NaN</td>\n",
       "      <td>NaN</td>\n",
       "      <td>NaN</td>\n",
       "      <td>NaN</td>\n",
       "      <td>NaN</td>\n",
       "      <td>NaN</td>\n",
       "      <td>NaN</td>\n",
       "      <td>NaN</td>\n",
       "      <td>NaN</td>\n",
       "      <td>NaN</td>\n",
       "      <td>NaN</td>\n",
       "      <td>NaN</td>\n",
       "      <td>NaN</td>\n",
       "      <td>NaN</td>\n",
       "      <td>NaN</td>\n",
       "    </tr>\n",
       "    <tr>\n",
       "      <th>3</th>\n",
       "      <td>turkey</td>\n",
       "      <td>avocado</td>\n",
       "      <td>NaN</td>\n",
       "      <td>NaN</td>\n",
       "      <td>NaN</td>\n",
       "      <td>NaN</td>\n",
       "      <td>NaN</td>\n",
       "      <td>NaN</td>\n",
       "      <td>NaN</td>\n",
       "      <td>NaN</td>\n",
       "      <td>NaN</td>\n",
       "      <td>NaN</td>\n",
       "      <td>NaN</td>\n",
       "      <td>NaN</td>\n",
       "      <td>NaN</td>\n",
       "      <td>NaN</td>\n",
       "      <td>NaN</td>\n",
       "      <td>NaN</td>\n",
       "      <td>NaN</td>\n",
       "      <td>NaN</td>\n",
       "    </tr>\n",
       "    <tr>\n",
       "      <th>4</th>\n",
       "      <td>mineral water</td>\n",
       "      <td>milk</td>\n",
       "      <td>energy bar</td>\n",
       "      <td>whole wheat rice</td>\n",
       "      <td>green tea</td>\n",
       "      <td>NaN</td>\n",
       "      <td>NaN</td>\n",
       "      <td>NaN</td>\n",
       "      <td>NaN</td>\n",
       "      <td>NaN</td>\n",
       "      <td>NaN</td>\n",
       "      <td>NaN</td>\n",
       "      <td>NaN</td>\n",
       "      <td>NaN</td>\n",
       "      <td>NaN</td>\n",
       "      <td>NaN</td>\n",
       "      <td>NaN</td>\n",
       "      <td>NaN</td>\n",
       "      <td>NaN</td>\n",
       "      <td>NaN</td>\n",
       "    </tr>\n",
       "  </tbody>\n",
       "</table>\n",
       "</div>"
      ],
      "text/plain": [
       "              0          1           2                 3             4   \\\n",
       "0         shrimp    almonds     avocado    vegetables mix  green grapes   \n",
       "1        burgers  meatballs        eggs               NaN           NaN   \n",
       "2        chutney        NaN         NaN               NaN           NaN   \n",
       "3         turkey    avocado         NaN               NaN           NaN   \n",
       "4  mineral water       milk  energy bar  whole wheat rice     green tea   \n",
       "\n",
       "                 5     6               7             8             9   \\\n",
       "0  whole weat flour  yams  cottage cheese  energy drink  tomato juice   \n",
       "1               NaN   NaN             NaN           NaN           NaN   \n",
       "2               NaN   NaN             NaN           NaN           NaN   \n",
       "3               NaN   NaN             NaN           NaN           NaN   \n",
       "4               NaN   NaN             NaN           NaN           NaN   \n",
       "\n",
       "               10         11     12     13             14      15  \\\n",
       "0  low fat yogurt  green tea  honey  salad  mineral water  salmon   \n",
       "1             NaN        NaN    NaN    NaN            NaN     NaN   \n",
       "2             NaN        NaN    NaN    NaN            NaN     NaN   \n",
       "3             NaN        NaN    NaN    NaN            NaN     NaN   \n",
       "4             NaN        NaN    NaN    NaN            NaN     NaN   \n",
       "\n",
       "                  16               17       18         19  \n",
       "0  antioxydant juice  frozen smoothie  spinach  olive oil  \n",
       "1                NaN              NaN      NaN        NaN  \n",
       "2                NaN              NaN      NaN        NaN  \n",
       "3                NaN              NaN      NaN        NaN  \n",
       "4                NaN              NaN      NaN        NaN  "
      ]
     },
     "execution_count": 9,
     "metadata": {},
     "output_type": "execute_result"
    }
   ],
   "source": [
    "data.head(5)"
   ]
  },
  {
   "cell_type": "code",
   "execution_count": 7,
   "metadata": {},
   "outputs": [],
   "source": [
    "from IPython.core.interactiveshell import InteractiveShell\n",
    "InteractiveShell.ast_node_interactivity='all'"
   ]
  },
  {
   "cell_type": "code",
   "execution_count": 15,
   "metadata": {},
   "outputs": [
    {
     "data": {
      "text/plain": [
       "(7501, 20)"
      ]
     },
     "execution_count": 15,
     "metadata": {},
     "output_type": "execute_result"
    },
    {
     "data": {
      "text/plain": [
       "'almonds'"
      ]
     },
     "execution_count": 15,
     "metadata": {},
     "output_type": "execute_result"
    }
   ],
   "source": [
    "data.shape\n",
    "data.values[0,1]"
   ]
  },
  {
   "cell_type": "code",
   "execution_count": 21,
   "metadata": {},
   "outputs": [],
   "source": [
    "l=[]\n",
    "for i in range(1,data.shape[0]):\n",
    "    l.append([str(data.values[i,j]) for j in range(0,20)])"
   ]
  },
  {
   "cell_type": "code",
   "execution_count": 23,
   "metadata": {},
   "outputs": [
    {
     "data": {
      "text/plain": [
       "[['burgers',\n",
       "  'meatballs',\n",
       "  'eggs',\n",
       "  'nan',\n",
       "  'nan',\n",
       "  'nan',\n",
       "  'nan',\n",
       "  'nan',\n",
       "  'nan',\n",
       "  'nan',\n",
       "  'nan',\n",
       "  'nan',\n",
       "  'nan',\n",
       "  'nan',\n",
       "  'nan',\n",
       "  'nan',\n",
       "  'nan',\n",
       "  'nan',\n",
       "  'nan',\n",
       "  'nan'],\n",
       " ['chutney',\n",
       "  'nan',\n",
       "  'nan',\n",
       "  'nan',\n",
       "  'nan',\n",
       "  'nan',\n",
       "  'nan',\n",
       "  'nan',\n",
       "  'nan',\n",
       "  'nan',\n",
       "  'nan',\n",
       "  'nan',\n",
       "  'nan',\n",
       "  'nan',\n",
       "  'nan',\n",
       "  'nan',\n",
       "  'nan',\n",
       "  'nan',\n",
       "  'nan',\n",
       "  'nan'],\n",
       " ['turkey',\n",
       "  'avocado',\n",
       "  'nan',\n",
       "  'nan',\n",
       "  'nan',\n",
       "  'nan',\n",
       "  'nan',\n",
       "  'nan',\n",
       "  'nan',\n",
       "  'nan',\n",
       "  'nan',\n",
       "  'nan',\n",
       "  'nan',\n",
       "  'nan',\n",
       "  'nan',\n",
       "  'nan',\n",
       "  'nan',\n",
       "  'nan',\n",
       "  'nan',\n",
       "  'nan'],\n",
       " ['mineral water',\n",
       "  'milk',\n",
       "  'energy bar',\n",
       "  'whole wheat rice',\n",
       "  'green tea',\n",
       "  'nan',\n",
       "  'nan',\n",
       "  'nan',\n",
       "  'nan',\n",
       "  'nan',\n",
       "  'nan',\n",
       "  'nan',\n",
       "  'nan',\n",
       "  'nan',\n",
       "  'nan',\n",
       "  'nan',\n",
       "  'nan',\n",
       "  'nan',\n",
       "  'nan',\n",
       "  'nan'],\n",
       " ['low fat yogurt',\n",
       "  'nan',\n",
       "  'nan',\n",
       "  'nan',\n",
       "  'nan',\n",
       "  'nan',\n",
       "  'nan',\n",
       "  'nan',\n",
       "  'nan',\n",
       "  'nan',\n",
       "  'nan',\n",
       "  'nan',\n",
       "  'nan',\n",
       "  'nan',\n",
       "  'nan',\n",
       "  'nan',\n",
       "  'nan',\n",
       "  'nan',\n",
       "  'nan',\n",
       "  'nan']]"
      ]
     },
     "execution_count": 23,
     "metadata": {},
     "output_type": "execute_result"
    }
   ],
   "source": [
    "l[:5]"
   ]
  },
  {
   "cell_type": "code",
   "execution_count": 143,
   "metadata": {},
   "outputs": [],
   "source": [
    "#applying association algo\n",
    "assoc_rules=apriori(l,min_support=0.0045,min_confidence=0.2,min_lift=3,min_length=2,use_colnames=True)\n",
    "#0.45% support is considered as min support;min 20% confidence and min lift of 3 and min length of 2\n",
    "assoc_res=list(assoc_rules)"
   ]
  },
  {
   "cell_type": "code",
   "execution_count": 144,
   "metadata": {},
   "outputs": [
    {
     "data": {
      "text/plain": [
       "48"
      ]
     },
     "execution_count": 144,
     "metadata": {},
     "output_type": "execute_result"
    },
    {
     "data": {
      "text/plain": [
       "[RelationRecord(items=frozenset({'chicken', 'light cream'}), support=0.004533333333333334, ordered_statistics=[OrderedStatistic(items_base=frozenset({'light cream'}), items_add=frozenset({'chicken'}), confidence=0.2905982905982906, lift=4.843304843304844)]),\n",
       " RelationRecord(items=frozenset({'mushroom cream sauce', 'escalope'}), support=0.005733333333333333, ordered_statistics=[OrderedStatistic(items_base=frozenset({'mushroom cream sauce'}), items_add=frozenset({'escalope'}), confidence=0.30069930069930073, lift=3.7903273197390845)]),\n",
       " RelationRecord(items=frozenset({'pasta', 'escalope'}), support=0.005866666666666667, ordered_statistics=[OrderedStatistic(items_base=frozenset({'pasta'}), items_add=frozenset({'escalope'}), confidence=0.37288135593220345, lift=4.700185158809287)])]"
      ]
     },
     "execution_count": 144,
     "metadata": {},
     "output_type": "execute_result"
    }
   ],
   "source": [
    "len(assoc_res)\n",
    "assoc_res[:3]"
   ]
  },
  {
   "cell_type": "code",
   "execution_count": 44,
   "metadata": {},
   "outputs": [
    {
     "data": {
      "text/plain": [
       "array([['shrimp', 'almonds', 'avocado', ..., 'frozen smoothie',\n",
       "        'spinach', 'olive oil'],\n",
       "       ['burgers', 'meatballs', 'eggs', ..., nan, nan, nan],\n",
       "       ['chutney', nan, nan, ..., nan, nan, nan],\n",
       "       ...,\n",
       "       ['chicken', nan, nan, ..., nan, nan, nan],\n",
       "       ['escalope', 'green tea', nan, ..., nan, nan, nan],\n",
       "       ['eggs', 'frozen smoothie', 'yogurt cake', ..., nan, nan, nan]],\n",
       "      dtype=object)"
      ]
     },
     "execution_count": 44,
     "metadata": {},
     "output_type": "execute_result"
    }
   ],
   "source": [
    "data.values"
   ]
  },
  {
   "cell_type": "code",
   "execution_count": 45,
   "metadata": {},
   "outputs": [
    {
     "data": {
      "text/plain": [
       "frozenset({'chicken', 'light cream'})"
      ]
     },
     "execution_count": 45,
     "metadata": {},
     "output_type": "execute_result"
    },
    {
     "data": {
      "text/plain": [
       "frozenset({'escalope', 'mushroom cream sauce'})"
      ]
     },
     "execution_count": 45,
     "metadata": {},
     "output_type": "execute_result"
    },
    {
     "data": {
      "text/plain": [
       "frozenset({'escalope', 'pasta'})"
      ]
     },
     "execution_count": 45,
     "metadata": {},
     "output_type": "execute_result"
    },
    {
     "data": {
      "text/plain": [
       "frozenset({'ground beef', 'herb & pepper'})"
      ]
     },
     "execution_count": 45,
     "metadata": {},
     "output_type": "execute_result"
    },
    {
     "data": {
      "text/plain": [
       "frozenset({'ground beef', 'tomato sauce'})"
      ]
     },
     "execution_count": 45,
     "metadata": {},
     "output_type": "execute_result"
    },
    {
     "data": {
      "text/plain": [
       "frozenset({'olive oil', 'whole wheat pasta'})"
      ]
     },
     "execution_count": 45,
     "metadata": {},
     "output_type": "execute_result"
    },
    {
     "data": {
      "text/plain": [
       "frozenset({'pasta', 'shrimp'})"
      ]
     },
     "execution_count": 45,
     "metadata": {},
     "output_type": "execute_result"
    },
    {
     "data": {
      "text/plain": [
       "frozenset({'chicken', 'light cream', 'nan'})"
      ]
     },
     "execution_count": 45,
     "metadata": {},
     "output_type": "execute_result"
    },
    {
     "data": {
      "text/plain": [
       "frozenset({'chocolate', 'frozen vegetables', 'shrimp'})"
      ]
     },
     "execution_count": 45,
     "metadata": {},
     "output_type": "execute_result"
    },
    {
     "data": {
      "text/plain": [
       "frozenset({'cooking oil', 'ground beef', 'spaghetti'})"
      ]
     },
     "execution_count": 45,
     "metadata": {},
     "output_type": "execute_result"
    },
    {
     "data": {
      "text/plain": [
       "frozenset({'escalope', 'mushroom cream sauce', 'nan'})"
      ]
     },
     "execution_count": 45,
     "metadata": {},
     "output_type": "execute_result"
    },
    {
     "data": {
      "text/plain": [
       "frozenset({'escalope', 'nan', 'pasta'})"
      ]
     },
     "execution_count": 45,
     "metadata": {},
     "output_type": "execute_result"
    },
    {
     "data": {
      "text/plain": [
       "frozenset({'frozen vegetables', 'ground beef', 'spaghetti'})"
      ]
     },
     "execution_count": 45,
     "metadata": {},
     "output_type": "execute_result"
    },
    {
     "data": {
      "text/plain": [
       "frozenset({'frozen vegetables', 'milk', 'olive oil'})"
      ]
     },
     "execution_count": 45,
     "metadata": {},
     "output_type": "execute_result"
    },
    {
     "data": {
      "text/plain": [
       "frozenset({'frozen vegetables', 'mineral water', 'shrimp'})"
      ]
     },
     "execution_count": 45,
     "metadata": {},
     "output_type": "execute_result"
    },
    {
     "data": {
      "text/plain": [
       "frozenset({'frozen vegetables', 'olive oil', 'spaghetti'})"
      ]
     },
     "execution_count": 45,
     "metadata": {},
     "output_type": "execute_result"
    },
    {
     "data": {
      "text/plain": [
       "frozenset({'frozen vegetables', 'shrimp', 'spaghetti'})"
      ]
     },
     "execution_count": 45,
     "metadata": {},
     "output_type": "execute_result"
    },
    {
     "data": {
      "text/plain": [
       "frozenset({'frozen vegetables', 'spaghetti', 'tomatoes'})"
      ]
     },
     "execution_count": 45,
     "metadata": {},
     "output_type": "execute_result"
    },
    {
     "data": {
      "text/plain": [
       "frozenset({'grated cheese', 'ground beef', 'spaghetti'})"
      ]
     },
     "execution_count": 45,
     "metadata": {},
     "output_type": "execute_result"
    },
    {
     "data": {
      "text/plain": [
       "frozenset({'ground beef', 'herb & pepper', 'mineral water'})"
      ]
     },
     "execution_count": 45,
     "metadata": {},
     "output_type": "execute_result"
    },
    {
     "data": {
      "text/plain": [
       "frozenset({'ground beef', 'herb & pepper', 'nan'})"
      ]
     },
     "execution_count": 45,
     "metadata": {},
     "output_type": "execute_result"
    },
    {
     "data": {
      "text/plain": [
       "frozenset({'ground beef', 'herb & pepper', 'spaghetti'})"
      ]
     },
     "execution_count": 45,
     "metadata": {},
     "output_type": "execute_result"
    },
    {
     "data": {
      "text/plain": [
       "frozenset({'ground beef', 'milk', 'olive oil'})"
      ]
     },
     "execution_count": 45,
     "metadata": {},
     "output_type": "execute_result"
    },
    {
     "data": {
      "text/plain": [
       "frozenset({'ground beef', 'nan', 'tomato sauce'})"
      ]
     },
     "execution_count": 45,
     "metadata": {},
     "output_type": "execute_result"
    },
    {
     "data": {
      "text/plain": [
       "frozenset({'ground beef', 'shrimp', 'spaghetti'})"
      ]
     },
     "execution_count": 45,
     "metadata": {},
     "output_type": "execute_result"
    },
    {
     "data": {
      "text/plain": [
       "frozenset({'milk', 'olive oil', 'spaghetti'})"
      ]
     },
     "execution_count": 45,
     "metadata": {},
     "output_type": "execute_result"
    },
    {
     "data": {
      "text/plain": [
       "frozenset({'mineral water', 'olive oil', 'soup'})"
      ]
     },
     "execution_count": 45,
     "metadata": {},
     "output_type": "execute_result"
    },
    {
     "data": {
      "text/plain": [
       "frozenset({'nan', 'olive oil', 'whole wheat pasta'})"
      ]
     },
     "execution_count": 45,
     "metadata": {},
     "output_type": "execute_result"
    },
    {
     "data": {
      "text/plain": [
       "frozenset({'nan', 'pasta', 'shrimp'})"
      ]
     },
     "execution_count": 45,
     "metadata": {},
     "output_type": "execute_result"
    },
    {
     "data": {
      "text/plain": [
       "frozenset({'olive oil', 'pancakes', 'spaghetti'})"
      ]
     },
     "execution_count": 45,
     "metadata": {},
     "output_type": "execute_result"
    },
    {
     "data": {
      "text/plain": [
       "frozenset({'chocolate', 'frozen vegetables', 'nan', 'shrimp'})"
      ]
     },
     "execution_count": 45,
     "metadata": {},
     "output_type": "execute_result"
    },
    {
     "data": {
      "text/plain": [
       "frozenset({'cooking oil', 'ground beef', 'nan', 'spaghetti'})"
      ]
     },
     "execution_count": 45,
     "metadata": {},
     "output_type": "execute_result"
    },
    {
     "data": {
      "text/plain": [
       "frozenset({'frozen vegetables', 'ground beef', 'nan', 'spaghetti'})"
      ]
     },
     "execution_count": 45,
     "metadata": {},
     "output_type": "execute_result"
    },
    {
     "data": {
      "text/plain": [
       "frozenset({'frozen vegetables', 'milk', 'mineral water', 'spaghetti'})"
      ]
     },
     "execution_count": 45,
     "metadata": {},
     "output_type": "execute_result"
    },
    {
     "data": {
      "text/plain": [
       "frozenset({'frozen vegetables', 'milk', 'nan', 'olive oil'})"
      ]
     },
     "execution_count": 45,
     "metadata": {},
     "output_type": "execute_result"
    },
    {
     "data": {
      "text/plain": [
       "frozenset({'frozen vegetables', 'mineral water', 'nan', 'shrimp'})"
      ]
     },
     "execution_count": 45,
     "metadata": {},
     "output_type": "execute_result"
    },
    {
     "data": {
      "text/plain": [
       "frozenset({'frozen vegetables', 'nan', 'olive oil', 'spaghetti'})"
      ]
     },
     "execution_count": 45,
     "metadata": {},
     "output_type": "execute_result"
    },
    {
     "data": {
      "text/plain": [
       "frozenset({'frozen vegetables', 'nan', 'shrimp', 'spaghetti'})"
      ]
     },
     "execution_count": 45,
     "metadata": {},
     "output_type": "execute_result"
    },
    {
     "data": {
      "text/plain": [
       "frozenset({'frozen vegetables', 'nan', 'spaghetti', 'tomatoes'})"
      ]
     },
     "execution_count": 45,
     "metadata": {},
     "output_type": "execute_result"
    },
    {
     "data": {
      "text/plain": [
       "frozenset({'grated cheese', 'ground beef', 'nan', 'spaghetti'})"
      ]
     },
     "execution_count": 45,
     "metadata": {},
     "output_type": "execute_result"
    },
    {
     "data": {
      "text/plain": [
       "frozenset({'ground beef', 'herb & pepper', 'mineral water', 'nan'})"
      ]
     },
     "execution_count": 45,
     "metadata": {},
     "output_type": "execute_result"
    },
    {
     "data": {
      "text/plain": [
       "frozenset({'ground beef', 'herb & pepper', 'nan', 'spaghetti'})"
      ]
     },
     "execution_count": 45,
     "metadata": {},
     "output_type": "execute_result"
    },
    {
     "data": {
      "text/plain": [
       "frozenset({'ground beef', 'milk', 'nan', 'olive oil'})"
      ]
     },
     "execution_count": 45,
     "metadata": {},
     "output_type": "execute_result"
    },
    {
     "data": {
      "text/plain": [
       "frozenset({'ground beef', 'nan', 'shrimp', 'spaghetti'})"
      ]
     },
     "execution_count": 45,
     "metadata": {},
     "output_type": "execute_result"
    },
    {
     "data": {
      "text/plain": [
       "frozenset({'milk', 'nan', 'olive oil', 'spaghetti'})"
      ]
     },
     "execution_count": 45,
     "metadata": {},
     "output_type": "execute_result"
    },
    {
     "data": {
      "text/plain": [
       "frozenset({'mineral water', 'nan', 'olive oil', 'soup'})"
      ]
     },
     "execution_count": 45,
     "metadata": {},
     "output_type": "execute_result"
    },
    {
     "data": {
      "text/plain": [
       "frozenset({'nan', 'olive oil', 'pancakes', 'spaghetti'})"
      ]
     },
     "execution_count": 45,
     "metadata": {},
     "output_type": "execute_result"
    },
    {
     "data": {
      "text/plain": [
       "frozenset({'frozen vegetables', 'milk', 'mineral water', 'nan', 'spaghetti'})"
      ]
     },
     "execution_count": 45,
     "metadata": {},
     "output_type": "execute_result"
    }
   ],
   "source": [
    "for i in range(0,len(assoc_res)):\n",
    "    assoc_res[i][0]"
   ]
  },
  {
   "cell_type": "code",
   "execution_count": 158,
   "metadata": {},
   "outputs": [
    {
     "name": "stdout",
     "output_type": "stream",
     "text": [
      "Items: ['chicken', 'light cream']\n",
      "Rule:light cream->chicken\n",
      "Support:0.004533333333333334\n",
      "Confidence:0.2905982905982906\n",
      "Lift:4.843304843304844\n",
      "###################################################################\n",
      "Items: ['mushroom cream sauce', 'escalope']\n",
      "Rule:mushroom cream sauce->escalope\n",
      "Support:0.005733333333333333\n",
      "Confidence:0.30069930069930073\n",
      "Lift:3.7903273197390845\n",
      "###################################################################\n",
      "Items: ['pasta', 'escalope']\n",
      "Rule:pasta->escalope\n",
      "Support:0.005866666666666667\n",
      "Confidence:0.37288135593220345\n",
      "Lift:4.700185158809287\n",
      "###################################################################\n",
      "Items: ['herb & pepper', 'ground beef']\n",
      "Rule:herb & pepper->ground beef\n",
      "Support:0.016\n",
      "Confidence:0.3234501347708895\n",
      "Lift:3.2915549671393096\n",
      "###################################################################\n",
      "Items: ['tomato sauce', 'ground beef']\n",
      "Rule:tomato sauce->ground beef\n",
      "Support:0.005333333333333333\n",
      "Confidence:0.37735849056603776\n",
      "Lift:3.840147461662528\n",
      "###################################################################\n",
      "Items: ['whole wheat pasta', 'olive oil']\n",
      "Rule:whole wheat pasta->olive oil\n",
      "Support:0.008\n",
      "Confidence:0.2714932126696833\n",
      "Lift:4.130221288078346\n",
      "###################################################################\n",
      "Items: ['pasta', 'shrimp']\n",
      "Rule:pasta->shrimp\n",
      "Support:0.005066666666666666\n",
      "Confidence:0.3220338983050848\n",
      "Lift:4.514493901473151\n",
      "###################################################################\n",
      "Items: ['nan', 'chicken', 'light cream']\n",
      "Rule:light cream->chicken\n",
      "Support:0.004533333333333334\n",
      "Confidence:0.2905982905982906\n",
      "Lift:4.843304843304844\n",
      "###################################################################\n",
      "Items: ['frozen vegetables', 'chocolate', 'shrimp']\n",
      "Rule:frozen vegetables->shrimp\n",
      "Support:0.005333333333333333\n",
      "Confidence:0.23255813953488372\n",
      "Lift:3.260160834601174\n",
      "###################################################################\n",
      "Items: ['spaghetti', 'cooking oil', 'ground beef']\n",
      "Rule:cooking oil->spaghetti\n",
      "Support:0.0048\n",
      "Confidence:0.5714285714285714\n",
      "Lift:3.281557646029315\n",
      "###################################################################\n",
      "Items: ['mushroom cream sauce', 'nan', 'escalope']\n",
      "Rule:mushroom cream sauce->nan\n",
      "Support:0.005733333333333333\n",
      "Confidence:0.30069930069930073\n",
      "Lift:3.7903273197390845\n",
      "###################################################################\n",
      "Items: ['pasta', 'nan', 'escalope']\n",
      "Rule:pasta->nan\n",
      "Support:0.005866666666666667\n",
      "Confidence:0.37288135593220345\n",
      "Lift:4.700185158809287\n",
      "###################################################################\n",
      "Items: ['frozen vegetables', 'spaghetti', 'ground beef']\n",
      "Rule:frozen vegetables->ground beef\n",
      "Support:0.008666666666666666\n",
      "Confidence:0.3110047846889952\n",
      "Lift:3.164906221394116\n",
      "###################################################################\n",
      "Items: ['frozen vegetables', 'milk', 'olive oil']\n",
      "Rule:frozen vegetables->olive oil\n",
      "Support:0.0048\n",
      "Confidence:0.20338983050847456\n",
      "Lift:3.094165778526489\n",
      "###################################################################\n",
      "Items: ['mineral water', 'frozen vegetables', 'shrimp']\n",
      "Rule:mineral water->frozen vegetables\n",
      "Support:0.0072\n",
      "Confidence:0.3068181818181818\n",
      "Lift:3.2183725365543547\n",
      "###################################################################\n",
      "Items: ['frozen vegetables', 'spaghetti', 'olive oil']\n",
      "Rule:frozen vegetables->olive oil\n",
      "Support:0.005733333333333333\n",
      "Confidence:0.20574162679425836\n",
      "Lift:3.1299436124887174\n",
      "###################################################################\n",
      "Items: ['frozen vegetables', 'spaghetti', 'shrimp']\n",
      "Rule:frozen vegetables->shrimp\n",
      "Support:0.006\n",
      "Confidence:0.21531100478468898\n",
      "Lift:3.0183785717479763\n",
      "###################################################################\n",
      "Items: ['frozen vegetables', 'tomatoes', 'spaghetti']\n",
      "Rule:frozen vegetables->tomatoes\n",
      "Support:0.006666666666666667\n",
      "Confidence:0.23923444976076555\n",
      "Lift:3.497579674864993\n",
      "###################################################################\n",
      "Items: ['grated cheese', 'spaghetti', 'ground beef']\n",
      "Rule:grated cheese->ground beef\n",
      "Support:0.005333333333333333\n",
      "Confidence:0.3225806451612903\n",
      "Lift:3.282706701098612\n",
      "###################################################################\n",
      "Items: ['mineral water', 'herb & pepper', 'ground beef']\n",
      "Rule:mineral water->ground beef\n",
      "Support:0.006666666666666667\n",
      "Confidence:0.390625\n",
      "Lift:3.975152645861601\n",
      "###################################################################\n",
      "Items: ['nan', 'herb & pepper', 'ground beef']\n",
      "Rule:herb & pepper->nan\n",
      "Support:0.016\n",
      "Confidence:0.3234501347708895\n",
      "Lift:3.2915549671393096\n",
      "###################################################################\n",
      "Items: ['spaghetti', 'herb & pepper', 'ground beef']\n",
      "Rule:spaghetti->ground beef\n",
      "Support:0.0064\n",
      "Confidence:0.3934426229508197\n",
      "Lift:4.003825878061259\n",
      "###################################################################\n",
      "Items: ['milk', 'olive oil', 'ground beef']\n",
      "Rule:milk->olive oil\n",
      "Support:0.004933333333333333\n",
      "Confidence:0.22424242424242424\n",
      "Lift:3.411395906324912\n",
      "###################################################################\n",
      "Items: ['nan', 'tomato sauce', 'ground beef']\n",
      "Rule:tomato sauce->nan\n",
      "Support:0.005333333333333333\n",
      "Confidence:0.37735849056603776\n",
      "Lift:3.840147461662528\n",
      "###################################################################\n",
      "Items: ['spaghetti', 'shrimp', 'ground beef']\n",
      "Rule:shrimp->spaghetti\n",
      "Support:0.006\n",
      "Confidence:0.5232558139534884\n",
      "Lift:3.004914704939635\n",
      "###################################################################\n",
      "Items: ['milk', 'spaghetti', 'olive oil']\n",
      "Rule:milk->olive oil\n",
      "Support:0.0072\n",
      "Confidence:0.20300751879699247\n",
      "Lift:3.0883496774390333\n",
      "###################################################################\n",
      "Items: ['mineral water', 'soup', 'olive oil']\n",
      "Rule:mineral water->olive oil\n",
      "Support:0.0052\n",
      "Confidence:0.2254335260115607\n",
      "Lift:3.4295161157945335\n",
      "###################################################################\n",
      "Items: ['whole wheat pasta', 'nan', 'olive oil']\n",
      "Rule:whole wheat pasta->nan\n",
      "Support:0.008\n",
      "Confidence:0.2714932126696833\n",
      "Lift:4.130221288078346\n",
      "###################################################################\n",
      "Items: ['pasta', 'nan', 'shrimp']\n",
      "Rule:pasta->nan\n",
      "Support:0.005066666666666666\n",
      "Confidence:0.3220338983050848\n",
      "Lift:4.514493901473151\n",
      "###################################################################\n",
      "Items: ['pancakes', 'spaghetti', 'olive oil']\n",
      "Rule:pancakes->olive oil\n",
      "Support:0.005066666666666666\n",
      "Confidence:0.20105820105820105\n",
      "Lift:3.0586947422647217\n",
      "###################################################################\n",
      "Items: ['frozen vegetables', 'chocolate', 'nan', 'shrimp']\n",
      "Rule:frozen vegetables->nan\n",
      "Support:0.005333333333333333\n",
      "Confidence:0.23255813953488372\n",
      "Lift:3.260160834601174\n",
      "###################################################################\n",
      "Items: ['nan', 'spaghetti', 'cooking oil', 'ground beef']\n",
      "Rule:cooking oil->spaghetti\n",
      "Support:0.0048\n",
      "Confidence:0.5714285714285714\n",
      "Lift:3.281557646029315\n",
      "###################################################################\n",
      "Items: ['frozen vegetables', 'spaghetti', 'nan', 'ground beef']\n",
      "Rule:frozen vegetables->nan\n",
      "Support:0.008666666666666666\n",
      "Confidence:0.3110047846889952\n",
      "Lift:3.164906221394116\n",
      "###################################################################\n",
      "Items: ['mineral water', 'frozen vegetables', 'milk', 'spaghetti']\n",
      "Rule:mineral water->frozen vegetables\n",
      "Support:0.004533333333333334\n",
      "Confidence:0.28813559322033905\n",
      "Lift:3.0224013274860737\n",
      "###################################################################\n",
      "Items: ['frozen vegetables', 'milk', 'nan', 'olive oil']\n",
      "Rule:frozen vegetables->nan\n",
      "Support:0.0048\n",
      "Confidence:0.20338983050847456\n",
      "Lift:3.094165778526489\n",
      "###################################################################\n",
      "Items: ['mineral water', 'frozen vegetables', 'nan', 'shrimp']\n",
      "Rule:mineral water->frozen vegetables\n",
      "Support:0.0072\n",
      "Confidence:0.3068181818181818\n",
      "Lift:3.2183725365543547\n",
      "###################################################################\n",
      "Items: ['frozen vegetables', 'spaghetti', 'nan', 'olive oil']\n",
      "Rule:frozen vegetables->nan\n",
      "Support:0.005733333333333333\n",
      "Confidence:0.20574162679425836\n",
      "Lift:3.1299436124887174\n",
      "###################################################################\n",
      "Items: ['frozen vegetables', 'spaghetti', 'nan', 'shrimp']\n",
      "Rule:frozen vegetables->nan\n",
      "Support:0.006\n",
      "Confidence:0.21531100478468898\n",
      "Lift:3.0183785717479763\n",
      "###################################################################\n",
      "Items: ['frozen vegetables', 'spaghetti', 'tomatoes', 'nan']\n",
      "Rule:frozen vegetables->tomatoes\n",
      "Support:0.006666666666666667\n",
      "Confidence:0.23923444976076555\n",
      "Lift:3.497579674864993\n",
      "###################################################################\n",
      "Items: ['grated cheese', 'spaghetti', 'nan', 'ground beef']\n",
      "Rule:grated cheese->nan\n",
      "Support:0.005333333333333333\n",
      "Confidence:0.3225806451612903\n",
      "Lift:3.282706701098612\n",
      "###################################################################\n",
      "Items: ['mineral water', 'nan', 'herb & pepper', 'ground beef']\n",
      "Rule:mineral water->nan\n",
      "Support:0.006666666666666667\n",
      "Confidence:0.390625\n",
      "Lift:3.975152645861601\n",
      "###################################################################\n",
      "Items: ['spaghetti', 'nan', 'herb & pepper', 'ground beef']\n",
      "Rule:spaghetti->nan\n",
      "Support:0.0064\n",
      "Confidence:0.3934426229508197\n",
      "Lift:4.003825878061259\n",
      "###################################################################\n",
      "Items: ['milk', 'nan', 'olive oil', 'ground beef']\n",
      "Rule:milk->nan\n",
      "Support:0.004933333333333333\n",
      "Confidence:0.22424242424242424\n",
      "Lift:3.411395906324912\n",
      "###################################################################\n",
      "Items: ['spaghetti', 'nan', 'shrimp', 'ground beef']\n",
      "Rule:shrimp->nan\n",
      "Support:0.006\n",
      "Confidence:0.5232558139534884\n",
      "Lift:3.004914704939635\n",
      "###################################################################\n",
      "Items: ['spaghetti', 'milk', 'nan', 'olive oil']\n",
      "Rule:milk->nan\n",
      "Support:0.0072\n",
      "Confidence:0.20300751879699247\n",
      "Lift:3.0883496774390333\n",
      "###################################################################\n",
      "Items: ['mineral water', 'soup', 'nan', 'olive oil']\n",
      "Rule:mineral water->nan\n",
      "Support:0.0052\n",
      "Confidence:0.2254335260115607\n",
      "Lift:3.4295161157945335\n",
      "###################################################################\n",
      "Items: ['pancakes', 'spaghetti', 'nan', 'olive oil']\n",
      "Rule:pancakes->nan\n",
      "Support:0.005066666666666666\n",
      "Confidence:0.20105820105820105\n",
      "Lift:3.0586947422647217\n",
      "###################################################################\n",
      "Items: ['spaghetti', 'mineral water', 'frozen vegetables', 'milk', 'nan']\n",
      "Rule:mineral water->frozen vegetables\n",
      "Support:0.004533333333333334\n",
      "Confidence:0.28813559322033905\n",
      "Lift:3.0224013274860737\n",
      "###################################################################\n"
     ]
    }
   ],
   "source": [
    "for i in assoc_res:\n",
    "    y=[x for x in i[0]]\n",
    "    pair=i[2]\n",
    "    #pair #obtain the first added item and next added\n",
    "    #pair[0]\n",
    "    #pair[0][2]\n",
    "    print(\"Items:\",y)\n",
    "    print(\"Rule:\" + [x for x in pair[0][0]][0] +\"->\"+[x for x in pair[0][1]][0])\n",
    "    print(\"Support:\" + str(i[1]))\n",
    "    print(\"Confidence:\" + str(pair[0][2]))\n",
    "    print(\"Lift:\"+str(pair[0][3]))\n",
    "    print('###################################################################')"
   ]
  },
  {
   "cell_type": "code",
   "execution_count": 182,
   "metadata": {},
   "outputs": [],
   "source": [
    "item_list=(data.melt()['value'].dropna())\n",
    "item_counts=item_list.value_counts()"
   ]
  },
  {
   "cell_type": "code",
   "execution_count": 183,
   "metadata": {},
   "outputs": [
    {
     "data": {
      "text/plain": [
       "Text(0.5, 1.0, 'Top 10 most frequent items')"
      ]
     },
     "execution_count": 183,
     "metadata": {},
     "output_type": "execute_result"
    },
    {
     "data": {
      "image/png": "[encoded data removed]",
      "text/plain": [
       "<Figure size 432x288 with 1 Axes>"
      ]
     },
     "metadata": {
      "needs_background": "light"
     },
     "output_type": "display_data"
    }
   ],
   "source": [
    "p=item_counts.head(10).plot(kind='bar')\n",
    "p.set_title('Top 10 most frequent items')"
   ]
  },
  {
   "cell_type": "code",
   "execution_count": 184,
   "metadata": {},
   "outputs": [
    {
     "data": {
      "text/plain": [
       "Text(0.5, 1.0, 'Top 10 least frequent items')"
      ]
     },
     "execution_count": 184,
     "metadata": {},
     "output_type": "execute_result"
    },
    {
     "data": {
      "image/png": "[encoded data removed]",
      "text/plain": [
       "<Figure size 432x288 with 1 Axes>"
      ]
     },
     "metadata": {
      "needs_background": "light"
     },
     "output_type": "display_data"
    }
   ],
   "source": [
    "p=item_counts.nsmallest(10).plot(kind='bar')\n",
    "p.set_title('Top 10 least frequent items')"
   ]
  },
  {
   "cell_type": "code",
   "execution_count": 196,
   "metadata": {},
   "outputs": [
    {
     "data": {
      "text/plain": [
       "Text(0.5, 1.0, 'Distribution of no.of items in basket')"
      ]
     },
     "execution_count": 196,
     "metadata": {},
     "output_type": "execute_result"
    },
    {
     "data": {
      "image/png": "[encoded data removed]",
      "text/plain": [
       "<Figure size 432x288 with 1 Axes>"
      ]
     },
     "metadata": {
      "needs_background": "light"
     },
     "output_type": "display_data"
    }
   ],
   "source": [
    "basket_len=data.notna().apply(sum,axis=1)\n",
    "a=basket_len.value_counts().plot(kind='bar')\n",
    "a.set_title('Distribution of no.of items in basket')"
   ]
  },
  {
   "cell_type": "code",
   "execution_count": 195,
   "metadata": {},
   "outputs": [
    {
     "data": {
      "text/plain": [
       "Text(0.5, 1.0, 'Top 10 items that are often bought alone')"
      ]
     },
     "execution_count": 195,
     "metadata": {},
     "output_type": "execute_result"
    },
    {
     "data": {
      "image/png": "[encoded data removed]",
      "text/plain": [
       "<Figure size 432x288 with 1 Axes>"
      ]
     },
     "metadata": {
      "needs_background": "light"
     },
     "output_type": "display_data"
    }
   ],
   "source": [
    "q=data[basket_len==1][0].value_counts().head(10).plot(kind='bar')\n",
    "q.set_title('Top 10 items that are often bought alone')"
   ]
  },
  {
   "cell_type": "code",
   "execution_count": null,
   "metadata": {},
   "outputs": [],
   "source": []
  }
 ],
 "metadata": {
  "kernelspec": {
   "display_name": "Python 3",
   "language": "python",
   "name": "python3"
  },
  "language_info": {
   "codemirror_mode": {
    "name": "ipython",
    "version": 3
   },
   "file_extension": ".py",
   "mimetype": "text/x-python",
   "name": "python",
   "nbconvert_exporter": "python",
   "pygments_lexer": "ipython3",
   "version": "3.7.4"
  }
 },
 "nbformat": 4,
 "nbformat_minor": 2
}
